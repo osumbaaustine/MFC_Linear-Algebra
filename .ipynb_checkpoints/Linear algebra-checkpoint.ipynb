{
 "cells": [
  {
   "cell_type": "code",
   "execution_count": 4,
   "metadata": {},
   "outputs": [],
   "source": [
    "import numpy as np\n",
    "#importing the numpy for solving "
   ]
  },
  {
   "cell_type": "markdown",
   "metadata": {},
   "source": [
    "<p><strong>To solve the system of linear equation below</strong></p>\n",
    "<p><em>5x + 3y = 7</em></p>\n",
    "<p><em>2x + 8y = 9</em></p>\n",
    "<p>We first convert this to this system of linear equation to the matrix form representing this as a numpy array</p>"
   ]
  },
  {
   "cell_type": "code",
   "execution_count": 5,
   "metadata": {},
   "outputs": [
    {
     "name": "stdout",
     "output_type": "stream",
     "text": [
      "[0.85294118 0.91176471]\n"
     ]
    }
   ],
   "source": [
    "#representing the left side of the equation\n",
    "eqn_left = np.array([[5, 3],[2, 8]])\n",
    "\n",
    "#representing the right side of the equation\n",
    "eqn_right = np.array([7, 9])\n",
    "\n",
    "# the values or point that satisfy this equation \n",
    "points = np.linalg.solve(eqn_left, eqn_right)\n",
    "print(points)"
   ]
  },
  {
   "cell_type": "code",
   "execution_count": 6,
   "metadata": {},
   "outputs": [
    {
     "name": "stdout",
     "output_type": "stream",
     "text": [
      "7.0 9.0\n"
     ]
    }
   ],
   "source": [
    "#Confirming to see if the resultant values satisfy the equation\n",
    "x = points[0]\n",
    "y = points[1]\n",
    "eqn_1 = (5*x) + (3*y)\n",
    "eqn_2 = (2*x) + (8*y)\n",
    "print(eqn_1, eqn_2)"
   ]
  }
 ],
 "metadata": {
  "kernelspec": {
   "display_name": "Python 3",
   "language": "python",
   "name": "python3"
  },
  "language_info": {
   "codemirror_mode": {
    "name": "ipython",
    "version": 3
   },
   "file_extension": ".py",
   "mimetype": "text/x-python",
   "name": "python",
   "nbconvert_exporter": "python",
   "pygments_lexer": "ipython3",
   "version": "3.7.4"
  }
 },
 "nbformat": 4,
 "nbformat_minor": 2
}
