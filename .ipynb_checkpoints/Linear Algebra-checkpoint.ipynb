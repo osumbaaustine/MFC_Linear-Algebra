{
 "cells": [
  {
   "cell_type": "markdown",
   "metadata": {},
   "source": [
    "<p style='text-align:center; font-size:x-large; font-weight:bold' > MFC project:  Application of Linear Algebra</p>\n",
    "<h2 style='text-align:center'> Algorithimic Balancing of chemical equations</h2>\n",
    "<span tyle='text-align:center'>By Paul Arah</span>"
   ]
  },
  {
   "cell_type": "markdown",
   "metadata": {},
   "source": [
    "<p style='text-align:center'><strong> Hypothetical Case Scenerio: </strong></p>\n",
    "<p>\n",
    "    Its May 30th 1905. The world is currrently on lockdown becuase of Corona Virus; a deadly virus that has to put a huge percentage of socio-economic activies in most countries of the world on a hold. Dumebi Chemicals, an agro-chemical comapany is currently diversifying its product line, trying to a come up with the ideal disinfectant to protect offices, schools and other enclosed spaces. With the world looking for a way to restart socio-economic activities in full despite the continued increase of infection rate of the virus, Dumebi chemicals realises that providing a way to make enclosed spaces infection free would most definitely be a commercial success. Wensaslaus, an ALU student currently studying Computer Science works as an intern for Dumebi Chemicals. Wensaslaus is tasked daily with the job of balancing a number of complex chemical equations for all the possible combinations of chemicals the lab is experimenting with. Wensaslaus, majors in Computer Science and hasn't touched chemistry since his high school. </p>\n"
   ]
  },
  {
   "cell_type": "markdown",
   "metadata": {},
   "source": [
    "<p style='text-align:center'><strong>Problem Importance and Background</strong></p>\n",
    "<p></p>"
   ]
  },
  {
   "cell_type": "markdown",
   "metadata": {},
   "source": [
    "<p style='text-align:center'><strong>References</strong></p>\n",
    "<ul>\n",
    "    <li>Akinola, R.O., Kutchin, S.Y., Nyam, I.A. and Adeyanju, O.\n",
    "(2016) Using Row Reduced Echelon Form\n",
    "in Balancing Chemical Equations. Advances\n",
    "in Linear Algebra & Matrix Theory, 6, 146-\n",
    "157.</li>\n",
    "    <li>wikiHow. 2020. How To Balance Chemical Equations Using Linear Algebra. [online] Available at: https://www.wikihow.com/Balance-Chemical-Equations-Using-Linear-Algebra> [Accessed 17 July 2020].</li>\n",
    "    <li>Iko-ojo Gabriel*, C., 2015. Balancing Of Chemical Equations Using Matrix Algebra. [online] researchgate.com. Available at: <https://www.researchgate.net/profile/Abdelrahim_Zabadi2/publication/322303511_From_Chemistry_to_Linear_Algebra_Balancing_a_Chemical_Reaction_Equation_Using_Algebraic_Approach/links/5a52ada40f7e9bbc10565599/From-Chemistry-to-Linear-Algebra-Balancing-a-Chemical-Reaction-Equation-Using-Algebraic-Approach.pdf> [Accessed 17 July 2020].</li>\n",
    "</ul>"
   ]
  },
  {
   "cell_type": "code",
   "execution_count": null,
   "metadata": {},
   "outputs": [],
   "source": []
  }
 ],
 "metadata": {
  "kernelspec": {
   "display_name": "Python 3",
   "language": "python",
   "name": "python3"
  },
  "language_info": {
   "codemirror_mode": {
    "name": "ipython",
    "version": 3
   },
   "file_extension": ".py",
   "mimetype": "text/x-python",
   "name": "python",
   "nbconvert_exporter": "python",
   "pygments_lexer": "ipython3",
   "version": "3.7.6"
  }
 },
 "nbformat": 4,
 "nbformat_minor": 4
}
